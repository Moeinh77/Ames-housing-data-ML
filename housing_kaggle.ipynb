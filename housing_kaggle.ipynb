{
  "nbformat": 4,
  "nbformat_minor": 0,
  "metadata": {
    "colab": {
      "name": "final housing kaggle.ipynb",
      "version": "0.3.2",
      "provenance": [],
      "toc_visible": true
    },
    "kernelspec": {
      "display_name": "Python 3",
      "language": "python",
      "name": "python3"
    }
  },
  "cells": [
    {
      "metadata": {
        "id": "v8_mKZlxMdjU",
        "colab_type": "text"
      },
      "cell_type": "markdown",
      "source": [
        "## House Prices: Advanced Regression Techniques\n",
        "\n",
        "* Data preprocessing steps is based on this note book :[notebook](https://www.kaggle.com/serigne/stacked-regressions-top-4-on-leaderboard) so I haven't gone through the proprocessing steps in this notebook .\n",
        "* You also can find the preprcessed data and the simplified steps for preprocessing of the data in my github repository:[repository](https://github.com/Moeinh77/Kaggle-House-Prices-Advanced-Regression-Techniques)\n",
        "*  Hyper parameters have been found by GridSearch and randomizedSearch of scikit learn .\n",
        "* The final model is a weitghted  average of : a 3 layer stack ensemble , a LGboost  and a XGBoost model.\n",
        "* This kernel guides you through a smaller error than all the other kernels so far, because of multiple layers of stacking (3 models in first stack,3 models in the second stack and one model as an estimator in last stack).\n",
        "* For ease of use I have used this library for stacking : [vecstack](https://github.com/vecxoz/vecstack).\n",
        "* You can see how the stack used has been implemented in here :[implementation](https://github.com/vecxoz/vecstack/blob/master/examples/00_stacking_concept_pictures_code.ipynb).\n",
        "---\n",
        "\n",
        "### Possible improvements:\n",
        "* Try different ways for preprocessing the data (e.g using only most importanant features of data for some models)\n",
        "* Increasing number of layers with more models in each layer \n",
        "* Decreasing the corrolation between 3 models in final averaged ensemble"
      ]
    },
    {
      "metadata": {
        "id": "O3mqdRYrd6Jk",
        "colab_type": "text"
      },
      "cell_type": "markdown",
      "source": [
        "### Importing libraries"
      ]
    },
    {
      "metadata": {
        "_cell_guid": "2dbccbd6-138b-4f1b-9b23-fd60c7525c14",
        "_execution_state": "idle",
        "_uuid": "c9b1d5dff21d39260eb47af6fe7aac4bd03be233",
        "colab_type": "code",
        "id": "klHV7EIueX9n",
        "colab": {}
      },
      "cell_type": "code",
      "source": [
        "#import some necessary librairies\n",
        "import numpy as np # linear algebra\n",
        "import pandas as pd # data processing, CSV file I/O (e.g. pd.read_csv)\n",
        "import warnings\n",
        "from sklearn.model_selection import RandomizedSearchCV"
      ],
      "execution_count": 0,
      "outputs": []
    },
    {
      "metadata": {
        "_cell_guid": "135e8ac5-ce46-4a5f-b205-13f827ef33b8",
        "_execution_state": "idle",
        "_uuid": "fc664fbe27561a3697d0210921107b0e14b7d211",
        "colab_type": "code",
        "id": "x5s3nloWeX_O",
        "colab": {}
      },
      "cell_type": "code",
      "source": [
        "from sklearn.linear_model import ElasticNet, Lasso,  BayesianRidge, LassoLars,RidgeCV\n",
        "from sklearn.ensemble import RandomForestRegressor,  GradientBoostingRegressor\n",
        "from sklearn.svm import SVR\n",
        "from sklearn.kernel_ridge import KernelRidge\n",
        "from sklearn.pipeline import make_pipeline\n",
        "from sklearn.preprocessing import RobustScaler\n",
        "from sklearn.base import BaseEstimator, TransformerMixin, RegressorMixin, clone\n",
        "from sklearn.model_selection import KFold, cross_val_score, train_test_split\n",
        "from sklearn.metrics import mean_squared_error\n",
        "import xgboost as xgb\n",
        "import lightgbm as lgb"
      ],
      "execution_count": 0,
      "outputs": []
    },
    {
      "metadata": {
        "_cell_guid": "0a75646f-1974-40ad-a085-ff7bc08454a5",
        "_execution_state": "idle",
        "_uuid": "89e464095544a53177d5a009b914ba4c660072a7",
        "colab_type": "code",
        "id": "VTgsasdNeX_L",
        "colab": {}
      },
      "cell_type": "code",
      "source": [
        "import zipfile\n",
        "import pandas as pd\n",
        "zip = zipfile.ZipFile('preprocessesdData.zip')\n",
        "zip.extractall()\n",
        "train =pd.read_csv('X_train.csv')\n",
        "test = pd.read_csv('X_test.csv')\n",
        "ytrain=pd.read_csv('y_train.csv')"
      ],
      "execution_count": 0,
      "outputs": []
    },
    {
      "metadata": {
        "id": "7aTvQnwSzK5H",
        "colab_type": "text"
      },
      "cell_type": "markdown",
      "source": [
        "### Metric function"
      ]
    },
    {
      "metadata": {
        "_cell_guid": "232c3959-c6e1-4535-8ad4-62892edc3f06",
        "_execution_state": "idle",
        "_uuid": "07f9ef433905b61a08a36790254d6a34661f0653",
        "colab_type": "code",
        "id": "8E4KZYq4eX_d",
        "colab": {}
      },
      "cell_type": "code",
      "source": [
        "def rmsle(y, y_pred):\n",
        "    return np.sqrt(mean_squared_error(y, y_pred))"
      ],
      "execution_count": 0,
      "outputs": []
    },
    {
      "metadata": {
        "id": "iI3TGvpEzYN6",
        "colab_type": "text"
      },
      "cell_type": "markdown",
      "source": [
        "## Stacking"
      ]
    },
    {
      "metadata": {
        "id": "Jd2PP4vEg_W_",
        "colab_type": "text"
      },
      "cell_type": "markdown",
      "source": [
        "![Image](https://camo.githubusercontent.com/fa34150cb31d02f68886584d549f300f8c290ba3/68747470733a2f2f6769746875622e636f6d2f766563786f7a2f766563737461636b2f7261772f6d61737465722f7069632f616e696d6174696f6e322e676966)"
      ]
    },
    {
      "metadata": {
        "id": "ndvm4kb4zayS",
        "colab_type": "text"
      },
      "cell_type": "markdown",
      "source": [
        "#### layer 1"
      ]
    },
    {
      "metadata": {
        "id": "gihx_VY7e7Kn",
        "colab_type": "text"
      },
      "cell_type": "markdown",
      "source": [
        "Tree based models do not need data to be scaled !\n",
        "so I haven't use scaling when predicting with boosting models"
      ]
    },
    {
      "metadata": {
        "_cell_guid": "03f45cb7-0a40-45ea-94e8-64fd7ff1e8f6",
        "_execution_state": "idle",
        "_uuid": "2a50c954cb771d350c3092c3658486ba4d22aba5",
        "colab_type": "code",
        "id": "4IEwYNJpeX_T",
        "colab": {}
      },
      "cell_type": "code",
      "source": [
        "ENet = make_pipeline(RobustScaler(), ElasticNet(alpha=0.0005, l1_ratio=.9,\n",
        "                                                random_state=7))\n",
        "#########################################################################\n",
        "KRR = KernelRidge(alpha=0.6, kernel='polynomial', degree=2, coef0=2.5)\n",
        "\n",
        "#########################################################################\n",
        "\n",
        "GBoost = GradientBoostingRegressor(n_estimators=3000, learning_rate=0.05,\n",
        "                                   max_depth=4, max_features='sqrt',\n",
        "                                   min_samples_leaf=15, min_samples_split=10, \n",
        "                                   loss='huber', random_state =5)\n"
      ],
      "execution_count": 0,
      "outputs": []
    },
    {
      "metadata": {
        "id": "KVr__1aGzth6",
        "colab_type": "code",
        "colab": {
          "base_uri": "https://localhost:8080/",
          "height": 108
        },
        "outputId": "e9d6703d-59c7-45f3-87ce-487aae61d834"
      },
      "cell_type": "code",
      "source": [
        "# library used for stacking \n",
        "!pip install vecstack"
      ],
      "execution_count": 7,
      "outputs": [
        {
          "output_type": "stream",
          "text": [
            "Requirement already satisfied: vecstack in /usr/local/lib/python3.6/dist-packages (0.3.0)\n",
            "Requirement already satisfied: scipy in /usr/local/lib/python3.6/dist-packages (from vecstack) (1.1.0)\n",
            "Requirement already satisfied: scikit-learn>=0.18 in /usr/local/lib/python3.6/dist-packages (from vecstack) (0.20.2)\n",
            "Requirement already satisfied: numpy in /usr/local/lib/python3.6/dist-packages (from vecstack) (1.14.6)\n"
          ],
          "name": "stdout"
        }
      ]
    },
    {
      "metadata": {
        "id": "cD-pqCRHzlFF",
        "colab_type": "code",
        "outputId": "e5c235a3-8f42-4bc8-cc8f-976cec340922",
        "colab": {
          "base_uri": "https://localhost:8080/",
          "height": 749
        }
      },
      "cell_type": "code",
      "source": [
        "from vecstack import stacking\n",
        "\n",
        "estimators = [KRR,GBoost,ENet]\n",
        "X_train=train\n",
        "y_train=ytrain\n",
        "X_test=test\n",
        "k=5\n",
        "\n",
        "L_train_1, L_test_1=stacking(estimators,X_train,\n",
        "         y_train, X_test,regression=True, \n",
        "         n_folds=k,mode='oof_pred',random_state=7, \n",
        "         verbose=2)"
      ],
      "execution_count": 8,
      "outputs": [
        {
          "output_type": "stream",
          "text": [
            "task:         [regression]\n",
            "metric:       [mean_absolute_error]\n",
            "mode:         [oof_pred]\n",
            "n_models:     [3]\n",
            "\n",
            "model  0:     [KernelRidge]\n",
            "    fold  0:  [0.07763351]\n",
            "    fold  1:  [0.08280573]\n",
            "    fold  2:  [0.08283652]\n",
            "    fold  3:  [0.07790947]\n",
            "    fold  4:  [0.07996834]\n",
            "    ----\n",
            "    MEAN:     [0.08023071] + [0.00226378]\n",
            "    FULL:     [0.08023249]\n",
            "\n",
            "    Fitting on full train set...\n",
            "\n",
            "model  1:     [GradientBoostingRegressor]\n",
            "    fold  0:  [0.07782347]\n",
            "    fold  1:  [0.08232763]\n",
            "    fold  2:  [0.08277875]\n",
            "    fold  3:  [0.07704594]\n",
            "    fold  4:  [0.07950896]\n",
            "    ----\n",
            "    MEAN:     [0.07989695] + [0.00231478]\n",
            "    FULL:     [0.07989917]\n",
            "\n",
            "    Fitting on full train set...\n",
            "\n",
            "model  2:     [Pipeline]\n",
            "    fold  0:  [0.07592782]\n",
            "    fold  1:  [0.07923325]\n",
            "    fold  2:  [0.07840916]\n",
            "    fold  3:  [0.07538190]\n",
            "    fold  4:  [0.07757205]\n",
            "    ----\n",
            "    MEAN:     [0.07730484] + [0.00145627]\n",
            "    FULL:     [0.07730597]\n",
            "\n",
            "    Fitting on full train set...\n",
            "\n"
          ],
          "name": "stdout"
        }
      ]
    },
    {
      "metadata": {
        "id": "XyYMJZFIzvjy",
        "colab_type": "text"
      },
      "cell_type": "markdown",
      "source": [
        "#### layer 2"
      ]
    },
    {
      "metadata": {
        "id": "T_PBuff2K1N_",
        "colab_type": "code",
        "colab": {}
      },
      "cell_type": "code",
      "source": [
        "ENet2 = make_pipeline(RobustScaler(), ElasticNet(alpha=0.00055, l1_ratio=.45,\n",
        "                                                random_state=7))\n",
        "#########################################################################\n",
        "KRR2 = KernelRidge(alpha=0.4, kernel='polynomial', degree=2, coef0=2.5)\n",
        "#########################################################################\n",
        "GBoost2 = GradientBoostingRegressor(n_estimators=1000, learning_rate=0.01,\n",
        "                                   max_depth=3, max_features='sqrt',\n",
        "                                   min_samples_leaf=7, min_samples_split=10, \n",
        "                                   loss='huber', random_state =7)"
      ],
      "execution_count": 0,
      "outputs": []
    },
    {
      "metadata": {
        "id": "ZOInL9XbgZvL",
        "colab_type": "code",
        "outputId": "523df860-cde9-4cae-ca40-605d1948935b",
        "colab": {
          "base_uri": "https://localhost:8080/",
          "height": 749
        }
      },
      "cell_type": "code",
      "source": [
        "#layer 2\n",
        "estimatorsL2=[ENet2,KRR2,GBoost2]\n",
        "\n",
        "L_train_2, L_test_2=stacking(estimatorsL2,L_train_1,\n",
        "         y_train, L_test_1,regression=True, \n",
        "         n_folds=k,mode='oof_pred',random_state=7, \n",
        "         verbose=2)\n"
      ],
      "execution_count": 13,
      "outputs": [
        {
          "output_type": "stream",
          "text": [
            "task:         [regression]\n",
            "metric:       [mean_absolute_error]\n",
            "mode:         [oof_pred]\n",
            "n_models:     [3]\n",
            "\n",
            "model  0:     [Pipeline]\n",
            "    fold  0:  [0.07448977]\n",
            "    fold  1:  [0.07514751]\n",
            "    fold  2:  [0.07548336]\n",
            "    fold  3:  [0.07206088]\n",
            "    fold  4:  [0.07375949]\n",
            "    ----\n",
            "    MEAN:     [0.07418820] + [0.00121639]\n",
            "    FULL:     [0.07418996]\n",
            "\n",
            "    Fitting on full train set...\n",
            "\n",
            "model  1:     [KernelRidge]\n",
            "    fold  0:  [0.07461446]\n",
            "    fold  1:  [0.07515028]\n",
            "    fold  2:  [0.07548839]\n",
            "    fold  3:  [0.07209792]\n",
            "    fold  4:  [0.07371609]\n",
            "    ----\n",
            "    MEAN:     [0.07421343] + [0.00121547]\n",
            "    FULL:     [0.07421522]\n",
            "\n",
            "    Fitting on full train set...\n",
            "\n",
            "model  2:     [GradientBoostingRegressor]\n",
            "    fold  0:  [0.07723375]\n",
            "    fold  1:  [0.07727390]\n",
            "    fold  2:  [0.07704604]\n",
            "    fold  3:  [0.07449550]\n",
            "    fold  4:  [0.07290320]\n",
            "    ----\n",
            "    MEAN:     [0.07579048] + [0.00178176]\n",
            "    FULL:     [0.07579335]\n",
            "\n",
            "    Fitting on full train set...\n",
            "\n"
          ],
          "name": "stdout"
        }
      ]
    },
    {
      "metadata": {
        "id": "w_hPPjPqzzJm",
        "colab_type": "text"
      },
      "cell_type": "markdown",
      "source": [
        "#### layer 3\n"
      ]
    },
    {
      "metadata": {
        "id": "hvEZe1GIb2nd",
        "colab_type": "code",
        "colab": {}
      },
      "cell_type": "code",
      "source": [
        "#our estimator (hyper params have been found by randomized search)\n",
        "ENet3=make_pipeline(RobustScaler(), ElasticNet(alpha=0.006, l1_ratio=0.0008,\n",
        "                                                random_state=7))"
      ],
      "execution_count": 0,
      "outputs": []
    },
    {
      "metadata": {
        "id": "7GpRyKSpz0xO",
        "colab_type": "code",
        "outputId": "1679e903-b03b-49e3-f543-7d73918aab9f",
        "colab": {
          "base_uri": "https://localhost:8080/",
          "height": 249
        }
      },
      "cell_type": "code",
      "source": [
        "#layer 3\n",
        "L_train_3, L_test_3=stacking([ENet3],L_train_2,\n",
        "         y_train, L_test_2,regression=True, \n",
        "         n_folds=k,mode='oof_pred',random_state=7, \n",
        "         verbose=1)\n",
        "\n",
        "print(rmsle(y_train,L_train_3))"
      ],
      "execution_count": 15,
      "outputs": [
        {
          "output_type": "stream",
          "text": [
            "task:         [regression]\n",
            "metric:       [mean_absolute_error]\n",
            "mode:         [oof_pred]\n",
            "n_models:     [1]\n",
            "\n",
            "model  0:     [Pipeline]\n",
            "    ----\n",
            "    MEAN:     [0.07423137] + [0.00151431]\n",
            "    FULL:     [0.07423386]\n",
            "\n",
            "    Fitting on full train set...\n",
            "\n",
            "0.10975502704565956\n"
          ],
          "name": "stdout"
        }
      ]
    },
    {
      "metadata": {
        "id": "XnV30xSEjsnQ",
        "colab_type": "code",
        "colab": {}
      },
      "cell_type": "code",
      "source": [
        "stack_pred=np.expm1(L_test_3).reshape(len(L_test_3),)\n",
        "\n",
        "#traing predictions are in logged form \n",
        "#because the y_train is still in this form too\n",
        "stack_train=L_train_3.reshape(len(L_train_3),)"
      ],
      "execution_count": 0,
      "outputs": []
    },
    {
      "metadata": {
        "id": "MM7MpVMw3d5C",
        "colab_type": "text"
      },
      "cell_type": "markdown",
      "source": [
        "## Weighted average ensemble\n",
        "\n"
      ]
    },
    {
      "metadata": {
        "id": "cBLg7iyVeT1F",
        "colab_type": "code",
        "colab": {}
      },
      "cell_type": "code",
      "source": [
        "\n",
        "model_xgb = xgb.XGBRegressor(colsample_bytree=0.4603, gamma=0.0468, \n",
        "                             learning_rate=0.05, max_depth=3, \n",
        "                             min_child_weight=1.7817, n_estimators=2200,\n",
        "                             reg_alpha=0.4640, reg_lambda=0.8571,\n",
        "                             subsample=0.5213, silent=1,\n",
        "                             random_state =7, nthread = -1)\n",
        "#########################################################################\n",
        "model_lgb = lgb.LGBMRegressor(objective='regression',num_leaves=5,\n",
        "                              learning_rate=0.05, n_estimators=720,\n",
        "                              max_bin = 55, bagging_fraction = 0.8,\n",
        "                              bagging_freq = 5, feature_fraction = 0.2319,\n",
        "                              feature_fraction_seed=9, bagging_seed=9,\n",
        "                              min_data_in_leaf =6, min_sum_hessian_in_leaf = 11)\n",
        "\n"
      ],
      "execution_count": 0,
      "outputs": []
    },
    {
      "metadata": {
        "_cell_guid": "6c322757-44c0-4c81-a319-1aa6ccdf440f",
        "_execution_state": "idle",
        "_uuid": "06a0eafc07a8dae002f3fc1499849ebf7ec014be",
        "colab_type": "text",
        "id": "Z2RzPGx-eX_k"
      },
      "cell_type": "markdown",
      "source": [
        "**XGBoost:**"
      ]
    },
    {
      "metadata": {
        "_cell_guid": "2af45055-47aa-4e26-84df-ba5726bdff54",
        "_execution_state": "idle",
        "_uuid": "c80de2558910e4091f087a99bfcb202f01033ad7",
        "colab_type": "code",
        "id": "fM8kHPfjeX_l",
        "outputId": "890fb487-5676-41e3-b2d6-dadf33a5746b",
        "colab": {
          "base_uri": "https://localhost:8080/",
          "height": 35
        }
      },
      "cell_type": "code",
      "source": [
        "model_xgb.fit(train, y_train)\n",
        "xgb_train_pred = model_xgb.predict(train)\n",
        "xgb_pred = np.expm1(model_xgb.predict(test))\n",
        "print(rmsle(y_train, xgb_train_pred))"
      ],
      "execution_count": 22,
      "outputs": [
        {
          "output_type": "stream",
          "text": [
            "0.07886400242961464\n"
          ],
          "name": "stdout"
        }
      ]
    },
    {
      "metadata": {
        "_cell_guid": "22b2b135-2af8-4dbb-a8f0-1fcd7f745a66",
        "_execution_state": "idle",
        "_uuid": "b6d1cdcc2bfc08d0eb58135878008e6d64987089",
        "colab_type": "text",
        "id": "OKLdCsj0eX_n"
      },
      "cell_type": "markdown",
      "source": [
        "**LightGBM:**"
      ]
    },
    {
      "metadata": {
        "_cell_guid": "995d4c8e-db72-4370-a1ec-50e0c761f09a",
        "_execution_state": "idle",
        "_uuid": "65398376dca67e2aa78576108a0bb8160031c111",
        "colab_type": "code",
        "id": "4hr9s8POeX_n",
        "outputId": "ff11cfa3-34f4-4072-eff3-570654e20c20",
        "colab": {
          "base_uri": "https://localhost:8080/",
          "height": 35
        }
      },
      "cell_type": "code",
      "source": [
        "model_lgb.fit(train, y_train)\n",
        "lgb_train_pred = model_lgb.predict(train)\n",
        "lgb_pred = np.expm1(model_lgb.predict(test.values))\n",
        "print(rmsle(y_train, lgb_train_pred))"
      ],
      "execution_count": 23,
      "outputs": [
        {
          "output_type": "stream",
          "text": [
            "0.07328475546826166\n"
          ],
          "name": "stdout"
        }
      ]
    },
    {
      "metadata": {
        "id": "sYhUU4bAsG1T",
        "colab_type": "text"
      },
      "cell_type": "markdown",
      "source": [
        "### training error"
      ]
    },
    {
      "metadata": {
        "_cell_guid": "619452b2-c395-48fe-81ab-d6b1d355236b",
        "_execution_state": "idle",
        "_uuid": "07500cf506f6a90c6439c2dabf81ab966cf1c792",
        "colab_type": "code",
        "id": "tvoiQdSFeX_r",
        "scrolled": true,
        "outputId": "2ba67c57-25cd-4cbb-a962-5c778494ffd5",
        "colab": {
          "base_uri": "https://localhost:8080/",
          "height": 53
        }
      },
      "cell_type": "code",
      "source": [
        "'''RMSE on the entire Train data when averaging'''\n",
        "\n",
        "print('RMSLE score on train data:')\n",
        "print(rmsle(y_train,stack_train*0.7 +xgb_train_pred*0.12+ lgb_train_pred*0.18  ))"
      ],
      "execution_count": 31,
      "outputs": [
        {
          "output_type": "stream",
          "text": [
            "RMSLE score on train data:\n",
            "0.09733210294183328\n"
          ],
          "name": "stdout"
        }
      ]
    },
    {
      "metadata": {
        "_cell_guid": "844b5e21-7bd2-4a2b-9f7a-2e755ed06ecb",
        "_execution_state": "idle",
        "_uuid": "59443e95f66cb9e595cff9a3666824299239126b",
        "colab_type": "text",
        "id": "0tBWpgvGeX_x"
      },
      "cell_type": "markdown",
      "source": [
        "### Ensemble prediction"
      ]
    },
    {
      "metadata": {
        "_cell_guid": "3ec2c58f-6bee-46a6-a263-1fe2cf3569cb",
        "_execution_state": "idle",
        "_uuid": "18996472b775bd9114fea7f08c8a554d4dafe774",
        "colab_type": "code",
        "id": "Oz214bg4eX_y",
        "colab": {}
      },
      "cell_type": "code",
      "source": [
        "stack_pred=stack_pred.reshape(1459,)\n",
        "ensemble =stack_pred*0.7 +xgb_pred*0.12 + lgb_pred*0.18  "
      ],
      "execution_count": 0,
      "outputs": []
    },
    {
      "metadata": {
        "id": "kNycW3ramAko",
        "colab_type": "code",
        "outputId": "086da078-d834-45d3-82c5-fc6f2b90f79e",
        "colab": {
          "base_uri": "https://localhost:8080/",
          "height": 35
        }
      },
      "cell_type": "code",
      "source": [
        "ensemble.shape"
      ],
      "execution_count": 0,
      "outputs": [
        {
          "output_type": "execute_result",
          "data": {
            "text/plain": [
              "(1459,)"
            ]
          },
          "metadata": {
            "tags": []
          },
          "execution_count": 98
        }
      ]
    },
    {
      "metadata": {
        "_cell_guid": "434ca649-2fa0-46a5-ab29-7f403448ddf7",
        "_execution_state": "idle",
        "_uuid": "c9f02561da543f4901dcd2051acbd6c197108dd5",
        "colab_type": "text",
        "id": "S2nh9EdWeX_0"
      },
      "cell_type": "markdown",
      "source": [
        "## Submission"
      ]
    },
    {
      "metadata": {
        "_cell_guid": "3db46af9-e18a-43bb-9699-45b851f835e5",
        "_execution_state": "idle",
        "_uuid": "93f6915cf25c7bb6b6fa6e74ad7b853387ac1db5",
        "colab_type": "code",
        "id": "hCRiMHUxeX_1",
        "outputId": "372bd3f5-24b0-483c-b790-7895578cb122",
        "colab": {
          "base_uri": "https://localhost:8080/",
          "height": 202
        }
      },
      "cell_type": "code",
      "source": [
        "sub = pd.DataFrame()\n",
        "sub['Id'] = range(1461,1461+1459)\n",
        "sub['SalePrice'] = ensemble\n",
        "sub.to_csv('submission.csv',index=False)\n",
        "sub.head()"
      ],
      "execution_count": 33,
      "outputs": [
        {
          "output_type": "execute_result",
          "data": {
            "text/html": [
              "<div>\n",
              "<style scoped>\n",
              "    .dataframe tbody tr th:only-of-type {\n",
              "        vertical-align: middle;\n",
              "    }\n",
              "\n",
              "    .dataframe tbody tr th {\n",
              "        vertical-align: top;\n",
              "    }\n",
              "\n",
              "    .dataframe thead th {\n",
              "        text-align: right;\n",
              "    }\n",
              "</style>\n",
              "<table border=\"1\" class=\"dataframe\">\n",
              "  <thead>\n",
              "    <tr style=\"text-align: right;\">\n",
              "      <th></th>\n",
              "      <th>Id</th>\n",
              "      <th>SalePrice</th>\n",
              "    </tr>\n",
              "  </thead>\n",
              "  <tbody>\n",
              "    <tr>\n",
              "      <th>0</th>\n",
              "      <td>1461</td>\n",
              "      <td>120836.648188</td>\n",
              "    </tr>\n",
              "    <tr>\n",
              "      <th>1</th>\n",
              "      <td>1462</td>\n",
              "      <td>160942.773262</td>\n",
              "    </tr>\n",
              "    <tr>\n",
              "      <th>2</th>\n",
              "      <td>1463</td>\n",
              "      <td>184873.133855</td>\n",
              "    </tr>\n",
              "    <tr>\n",
              "      <th>3</th>\n",
              "      <td>1464</td>\n",
              "      <td>194758.002408</td>\n",
              "    </tr>\n",
              "    <tr>\n",
              "      <th>4</th>\n",
              "      <td>1465</td>\n",
              "      <td>193284.766804</td>\n",
              "    </tr>\n",
              "  </tbody>\n",
              "</table>\n",
              "</div>"
            ],
            "text/plain": [
              "     Id      SalePrice\n",
              "0  1461  120836.648188\n",
              "1  1462  160942.773262\n",
              "2  1463  184873.133855\n",
              "3  1464  194758.002408\n",
              "4  1465  193284.766804"
            ]
          },
          "metadata": {
            "tags": []
          },
          "execution_count": 33
        }
      ]
    },
    {
      "metadata": {
        "id": "CRda_4ejlV0M",
        "colab_type": "text"
      },
      "cell_type": "markdown",
      "source": [
        "Score on the leader board :**0.11433**"
      ]
    },
    {
      "metadata": {
        "id": "20JHMC2eleio",
        "colab_type": "text"
      },
      "cell_type": "markdown",
      "source": [
        "#### Please let me know if you had ideas for improving this notebook,also if have problems understanding the code ask in the comments and I will answer .Thanks for reading this note book hope it helps you !"
      ]
    }
  ]
}